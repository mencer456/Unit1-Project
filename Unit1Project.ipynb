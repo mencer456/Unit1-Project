{
 "cells": [
  {
   "cell_type": "markdown",
   "metadata": {},
   "source": [
    "## Keeping an Open Mind ... Or Not\n",
    "\n",
    "**Text:** The Rocky Horror Picture Show <br><br>\n",
    "**Model:** Schelling Segregation Model (https://ccl.northwestern.edu/netlogo/models/Segregation) <br><br>\n",
    "**Python Implementation:** Example code from class (https://github.com/dbabichenko/dnid/blob/main/Procedurally-generated%20narrative/SchellingModel.ipynb) I also had some additional help with the code for parsing and implementing my rules outside of class. <br>\n",
    "<br>\n",
    "**Description:** <br> \n",
    ">    This model focuses on the relationship between the open minded and closed minded characters in *The Rocky Horror Picture Show*. The agents include two groups of characters: open minded and closed minded characters. For the purposes of this model, each character will have 5 neighbors, 2 of which much be in the same group as them. The most significant modifications I made to the model were the addition of two new rules which relate to the addition of attributes for each character. First, I'll explain the attributes. Each character has a set of three attributes: innocence, unconventionalism, and offendability. I ranked these attributes on a scale of 1 to 3 where 1 means the character does not represent that attribute well and 3 means that attribute is extremely present in that character. Then the rules come in. If two characters are neighbors and they are both very easily offended (rank 3 for offendability), they will fight, and one of them will die. The other rule looks at the first two attributes of neighbors of opposite groups (innocence and unconventionalism), and if those two attributes exact opposites (the closed minded character ranks 3,1 for innocence and unconventionalism while the open minded character ranks 1,3 for those attributes) then the closed minded character will switch over to the open minded group. Also, if the characters both rank 2 for innocnce and unconventionalism, the closed minded character will become open minded. <br>\n",
    "    The biggest change I made to the text itself was how I did not include certain characters either because they did not play a significant role in the narrative or they did not have many lines. Also, since this is a musical, there are lots of instances where characters double up in lines. I chose to ignore these lines because I thought it would be too difficult to parse. Also, those lines were not necessary for the purposes of this model. \n",
    "    \n"
   ]
  },
  {
   "cell_type": "markdown",
   "metadata": {},
   "source": [
    "## Importing Libraries"
   ]
  },
  {
   "cell_type": "code",
   "execution_count": 1,
   "metadata": {},
   "outputs": [],
   "source": [
    "import random\n",
    "from math import sqrt\n",
    "import matplotlib.pyplot as plt\n",
    "%matplotlib inline"
   ]
  },
  {
   "cell_type": "markdown",
   "metadata": {},
   "source": [
    "## Creating the two Different Groups"
   ]
  },
  {
   "cell_type": "code",
   "execution_count": 2,
   "metadata": {},
   "outputs": [],
   "source": [
    "\n",
    "closed_minded= {\n",
    "    'BRAD' : [],\n",
    "    'JANET' : [],\n",
    "    'DR SCOTT' : [],\n",
    "    'ROCKY' : [],\n",
    "    'NARRATOR' : [],  \n",
    "}\n",
    "open_minded= {\n",
    "    'RIFF RAFF' : [],\n",
    "    'MAGENTA' : [],\n",
    "    'FRANK' : [],\n",
    "    'COLUMBIA' : [],\n",
    "    'EDDIE':[]\n",
    "}\n"
   ]
  },
  {
   "cell_type": "markdown",
   "metadata": {},
   "source": [
    "## Attributes\n",
    "In order: innocence, unconventionalism, easily offended/offendability\n",
    "(1-3 ranking,1 being not very, 3 being very)"
   ]
  },
  {
   "cell_type": "code",
   "execution_count": 3,
   "metadata": {},
   "outputs": [],
   "source": [
    "cm_att= {\n",
    "    'BRAD' : [3,1,1], \n",
    "    'JANET' : [3,2,3], \n",
    "    'DR SCOTT' : [2,2,1], \n",
    "    'ROCKY' : [3,3,2], \n",
    "    'NARRATOR' : [2,1,1], \n",
    "}\n",
    "om_att = {\n",
    "    'RIFF RAFF' : [2,2,1], \n",
    "    'MAGENTA' : [2,2,1], \n",
    "    'FRANK' : [1,3,3], \n",
    "    'COLUMBIA' : [1,2,3], \n",
    "    'EDDIE':[1,2,1]    \n",
    "}"
   ]
  },
  {
   "cell_type": "markdown",
   "metadata": {},
   "source": [
    "## Parsing the Text"
   ]
  },
  {
   "cell_type": "code",
   "execution_count": 4,
   "metadata": {},
   "outputs": [],
   "source": [
    "\n",
    "rhps=open('rhps.txt')\n",
    "rhps_text=rhps.read()\n",
    "\n",
    "import re\n",
    "\n",
    "for character, statements in closed_minded.items():\n",
    "    # Find ALL positions where the character name appears in text\n",
    "    positions = [m.start() for m in re.finditer(character + '\\n', rhps_text)]\n",
    "    \n",
    "    # Iterate through the list of positions and grab a statement associated with \n",
    "    # the character whose name appears at that position\n",
    "    for pos in positions:\n",
    "        start = pos\n",
    "        temp=rhps_text[start:]\n",
    "        stop=temp.find('\\n\\n')\n",
    "        statement=temp[:stop]\n",
    "        closed_minded[character].append(statement)\n",
    "\n",
    "        \n",
    "for character, statements in open_minded.items():\n",
    "    # Find ALL positions where the character name appears in text\n",
    "    positions = [m.start() for m in re.finditer(character + '\\n', rhps_text)]\n",
    "    \n",
    "    # Iterate through the list of positions and grab a statement associated with \n",
    "    # the character whose name appears at that position\n",
    "    for pos in positions:\n",
    "        start = pos\n",
    "        temp=rhps_text[start:]\n",
    "        stop=temp.find('\\n\\n')\n",
    "        statement=temp[:stop]\n",
    "        open_minded[character].append(statement)\n",
    "\n"
   ]
  },
  {
   "cell_type": "markdown",
   "metadata": {},
   "source": [
    "## Agent Rules"
   ]
  },
  {
   "cell_type": "code",
   "execution_count": 5,
   "metadata": {},
   "outputs": [],
   "source": [
    "\n",
    "\n",
    "\n",
    "# Each agent in the model is represented by an Agent object\n",
    "class Agent:\n",
    "    # Class constructor - initializes all the properties of an Agent object\n",
    "    def __init__(self, agent_type, agent_name, agent_statement, \n",
    "                 agent_innocence, agent_unconventionalism, agent_offendability):\n",
    "        self.type = agent_type\n",
    "        self.name = agent_name\n",
    "        self.statement = agent_statement.strip().replace('\\n', ' ') # A bit of cleaning...\n",
    "        self.innocence = agent_innocence\n",
    "        self.unconventionalism = agent_unconventionalism\n",
    "        self.offendability = agent_offendability\n",
    "        self.draw_location()\n",
    "    \n",
    "   \n",
    "    # Randomly place an agent on the virtual \"grid\"\n",
    "    def draw_location(self):\n",
    "        self.location = random.uniform(0, 1), random.uniform(0, 1)\n",
    "\n",
    "        \n",
    "    # Compute the Euclidean distance between self and other agent.\n",
    "    def get_distance(self, other):\n",
    "        a = (self.location[0] - other.location[0])**2\n",
    "        b = (self.location[1] - other.location[1])**2\n",
    "        return sqrt(a + b)\n",
    "\n",
    "\n",
    "            \n",
    "\n",
    "    ##HERE IS WHERE MY ADDED RULES START\n",
    "    \n",
    " #if the self and the neighbor we are comparting to are both easily offended, it randomly desicdes which one will die\n",
    "    def kill(self, neighbors, agents):\n",
    "        self_cast=str(self.name)\n",
    "        n_count=0\n",
    "        for n in neighbors:\n",
    "            # They will only kill eachother if they are in opposite groups\n",
    "            if self.type!=n.type:\n",
    "                n_cast=str(n.name)\n",
    "                \n",
    "                #The characters only have a chance at killing eachother \n",
    "                #if they are both easily offended aka 3 for offendability\n",
    "                if self.offendability==3 and self.offendability == n.offendability:\n",
    "                    who_dies = random.choice([1,2])\n",
    "                    if who_dies==1:         \n",
    "                        print(\"Unfortunately, \"+self_cast+\" has killed \"+n_cast+\n",
    "                        \" because they could not see eye to eye. :(\\n\")\n",
    "                        print(n_cast+\"'s final words were: \"+n.statement+\"\\n\")\n",
    "                        open_minded.pop(n.name)\n",
    "                        agents.remove(n)\n",
    "                        neighbors.pop(n_count)\n",
    "                        success=True\n",
    "                        break\n",
    "                    elif who_dies == 2:\n",
    "                        print(\"Unfortunately, \"+n_cast+\" has killed \"+self_cast+\n",
    "                        \" because they could not see eye to eye. :(\\n\")\n",
    "                        print(self_cast+\"'s final words were: \"+self.statement+\"\\n\")\n",
    "                        closed_minded.pop(self.name)\n",
    "                        agents.remove(self)\n",
    "                        success=True\n",
    "                        break\n",
    "                    break\n",
    "                break\n",
    "            break\n",
    "\n",
    "                           \n",
    "\n",
    "    \n",
    "    #if self is part of closed minded their first two attributes are the same as the neighbor we are comparing to, the closed \n",
    "    # minded character, self, will switch over to become part of the open minded group\n",
    "    def switch(self, neighbors):\n",
    "        self_cast=str(self.name)\n",
    "        \n",
    "        for n in neighbors:\n",
    "            if self.type!=n.type:\n",
    "                n_cast=str(n.name)\n",
    "                \n",
    "                #Using the idea of 'opposites attract', if the two characters have opposite rankings for innocence and\n",
    "                # unconventionalism, the closed minded character will be compelled to become more openminded since their ideas\n",
    "                # were challeneged\n",
    "                if (self.innocence==3 and self.unconventionalism==1) and (n.innocence==1 and n.unconventionalism==3 ):\n",
    "                    self.type = n.type\n",
    "                    print(n_cast+ \" has enlightened \"+self_cast+\", and \"+self_cast+\" is now part of the open minded crew. :)\\n\")\n",
    "                    print(self_cast+\" would like to share a few words about this experience... \"+self.statement+\"\\n\")            \n",
    "                    break\n",
    "                \n",
    "                #if two characters both rank a 2 for innocence and unconventionalism, the closed-minded character\n",
    "                #will switch to open minded because they are more likely to have a rational conversation that changes their mind\n",
    "                elif ((self.innocence==2 and self.unconventionalism==2) and \n",
    "                    (self.innocence==n.innocence and self.unconventionalism==n.unconventionalism)):\n",
    "                    self.type=n.type\n",
    "                    print(\"Because \"+self_cast+\" and \"+n_cast+\" share the same characteristics while not being extreme, they\" \n",
    "                    \" had a lovely discussion, and \"+self_cast+\" has decided to change and become more open minded. :)\\n\")\n",
    "                    print(self_cast+\" would like to share a few words about this experience... \"+self.statement+\"\\n\")\n",
    "                    break\n",
    "                    \n",
    "   \n",
    "    ##ADDED RULLES END\n",
    "\n",
    "    \n",
    "    \n",
    "    # Determine if an agent is happy\n",
    "    # True if sufficient number of nearest neighbors are of the same type.\n",
    "    \n",
    "    def happy(self, agents):\n",
    "        distances = []\n",
    "        # distances is a list of pairs (d, agent), where d is distance from\n",
    "        # agent to self\n",
    "        for agent in agents:\n",
    "            if self != agent:\n",
    "                distance = self.get_distance(agent)\n",
    "                distances.append((distance, agent))\n",
    "        \n",
    "        # == Sort from smallest to largest, according to distance == #\n",
    "        distances.sort()\n",
    "        \n",
    "        # == Extract the neighboring agents == #\n",
    "        neighbors = [agent for d, agent in distances[:num_neighbors]]\n",
    "        # Unlike in the original model code, we will save the list\n",
    "        # of nearest neighbors as a property of each agent - this way\n",
    "        # each agent always knows its nearest neighbors\n",
    "        self.neighbors = neighbors\n",
    "        \n",
    "        #implementing the added rules\n",
    "        \n",
    "        #These rules only run if the 'self' is part of the closed_minded group\n",
    "        if self.type==0:\n",
    "            self.switch(neighbors)\n",
    "            self.kill(neighbors, agents)\n",
    "\n",
    "        # == Count how many neighbors have the same type as self == #\n",
    "        num_same_type = sum(self.type == agent.type for agent in neighbors)\n",
    "        return num_same_type >= require_same_type\n",
    "\n",
    "\n",
    "    \n",
    "    # Update agent's position.\n",
    "    # If agent is not happy, then randomly choose new locations until happy.\n",
    "    def update(self, agents):\n",
    "        while not self.happy(agents):\n",
    "            self.draw_location()"
   ]
  },
  {
   "cell_type": "markdown",
   "metadata": {},
   "source": [
    "## Assigning Agent Parameters"
   ]
  },
  {
   "cell_type": "code",
   "execution_count": 6,
   "metadata": {},
   "outputs": [],
   "source": [
    "num_of_type_0=len(closed_minded.items())\n",
    "num_of_type_1=len(open_minded.items())\n",
    "num_neighbors= 5\n",
    "require_same_type=2\n",
    "agents=[]\n",
    "\n",
    "\n",
    "\n",
    "for character_name, statement_list in closed_minded.items():\n",
    "    agent_name = character_name\n",
    "    agent_statement = random.choice(statement_list)\n",
    "    \n",
    "    agent_innocence = cm_att[character_name][0]\n",
    "    agent_unconventionalism = cm_att[character_name][1]\n",
    "    agent_offendability= cm_att[character_name][2]\n",
    "    \n",
    "    agent=Agent(0, agent_name, agent_statement, agent_innocence, agent_unconventionalism, agent_offendability)\n",
    "    agents.append(agent)\n",
    "\n",
    "\n",
    "for character_name, statement_list in open_minded.items():\n",
    "    agent_name = character_name\n",
    "    agent_statement = random.choice(statement_list)\n",
    "    \n",
    "    agent_innocence = om_att[character_name][0]\n",
    "    agent_unconventionalism = om_att[character_name][1]\n",
    "    agent_offendability = om_att[character_name][2]\n",
    "    \n",
    "    agent=Agent(1, agent_name, agent_statement, agent_innocence, agent_unconventionalism, agent_offendability)\n",
    "    agents.append(agent)\n",
    "\n"
   ]
  },
  {
   "cell_type": "markdown",
   "metadata": {},
   "source": [
    "## Looping"
   ]
  },
  {
   "cell_type": "code",
   "execution_count": 7,
   "metadata": {},
   "outputs": [
    {
     "name": "stdout",
     "output_type": "stream",
     "text": [
      "Entering loop:  1 \n",
      "\n",
      "FRANK has enlightened BRAD, and BRAD is now part of the open minded crew. :)\n",
      "\n",
      "BRAD would like to share a few words about this experience... BRAD You mean you're going to kill him? What's his crime?\n",
      "\n",
      "Unfortunately, FRANK has killed JANET because they could not see eye to eye. :(\n",
      "\n",
      "JANET's final words were: JANET We're trapped.\n",
      "\n",
      "Entering loop:  2 \n",
      "\n",
      "Converged. Terminating.\n"
     ]
    }
   ],
   "source": [
    "count = 1\n",
    "# ==  Loop until none wishes to move == #\n",
    "while True:\n",
    "    print('Entering loop: ', count,'\\n')\n",
    "    count += 1\n",
    "    no_one_moved = True\n",
    "    for agent in agents:\n",
    "        old_location = agent.location\n",
    "        agent.update(agents)\n",
    "        if agent.location != old_location:\n",
    "            no_one_moved = False\n",
    "    if no_one_moved:\n",
    "        break\n",
    "\n",
    "print('Converged. Terminating.')"
   ]
  },
  {
   "cell_type": "code",
   "execution_count": 8,
   "metadata": {},
   "outputs": [
    {
     "name": "stdout",
     "output_type": "stream",
     "text": [
      "BRAD neighbors: \n",
      "\tFRANK\n",
      "\tDR SCOTT\n",
      "\tROCKY\n",
      "\tEDDIE\n",
      "\tNARRATOR\n",
      "DR SCOTT neighbors: \n",
      "\tBRAD\n",
      "\tFRANK\n",
      "\tEDDIE\n",
      "\tROCKY\n",
      "\tNARRATOR\n",
      "ROCKY neighbors: \n",
      "\tFRANK\n",
      "\tBRAD\n",
      "\tNARRATOR\n",
      "\tDR SCOTT\n",
      "\tCOLUMBIA\n",
      "NARRATOR neighbors: \n",
      "\tFRANK\n",
      "\tROCKY\n",
      "\tBRAD\n",
      "\tMAGENTA\n",
      "\tDR SCOTT\n",
      "RIFF RAFF neighbors: \n",
      "\tCOLUMBIA\n",
      "\tMAGENTA\n",
      "\tEDDIE\n",
      "\tROCKY\n",
      "\tFRANK\n",
      "MAGENTA neighbors: \n",
      "\tCOLUMBIA\n",
      "\tRIFF RAFF\n",
      "\tROCKY\n",
      "\tFRANK\n",
      "\tNARRATOR\n",
      "FRANK neighbors: \n",
      "\tROCKY\n",
      "\tBRAD\n",
      "\tNARRATOR\n",
      "\tDR SCOTT\n",
      "\tCOLUMBIA\n",
      "COLUMBIA neighbors: \n",
      "\tRIFF RAFF\n",
      "\tMAGENTA\n",
      "\tROCKY\n",
      "\tEDDIE\n",
      "\tFRANK\n",
      "EDDIE neighbors: \n",
      "\tBRAD\n",
      "\tDR SCOTT\n",
      "\tRIFF RAFF\n",
      "\tCOLUMBIA\n",
      "\tROCKY\n"
     ]
    }
   ],
   "source": [
    "# Let's see where all of our agents are in regards to each other\n",
    "for agent in agents: # Iterate through the list of agents\n",
    "    print(agent.name + \" neighbors: \")\n",
    "    for n in agent.neighbors: # For each agent, iterate through its neighbors\n",
    "        print('\\t' + n.name)"
   ]
  },
  {
   "cell_type": "markdown",
   "metadata": {},
   "source": [
    "## Visualization of the Connections"
   ]
  },
  {
   "cell_type": "code",
   "execution_count": 9,
   "metadata": {},
   "outputs": [
    {
     "data": {
      "text/plain": [
       "<networkx.classes.graph.Graph at 0x1a46f5b5850>"
      ]
     },
     "execution_count": 9,
     "metadata": {},
     "output_type": "execute_result"
    }
   ],
   "source": [
    "import networkx as nx\n",
    "G=nx.Graph()\n",
    "G"
   ]
  },
  {
   "cell_type": "code",
   "execution_count": 10,
   "metadata": {},
   "outputs": [
    {
     "data": {
      "image/png": "[encoded data removed]",
      "text/plain": [
       "<Figure size 432x288 with 1 Axes>"
      ]
     },
     "metadata": {},
     "output_type": "display_data"
    }
   ],
   "source": [
    "for agent in agents:\n",
    "    G.add_node(agent.name)\n",
    "\n",
    "for agent in agents:\n",
    "    for n in agent.neighbors:\n",
    "        G.add_edge(agent.name,n.name)\n",
    "nx.draw(G,with_labels=True)"
   ]
  }
 ],
 "metadata": {
  "kernelspec": {
   "display_name": "Python 3",
   "language": "python",
   "name": "python3"
  },
  "language_info": {
   "codemirror_mode": {
    "name": "ipython",
    "version": 3
   },
   "file_extension": ".py",
   "mimetype": "text/x-python",
   "name": "python",
   "nbconvert_exporter": "python",
   "pygments_lexer": "ipython3",
   "version": "3.8.5"
  }
 },
 "nbformat": 4,
 "nbformat_minor": 4
}
